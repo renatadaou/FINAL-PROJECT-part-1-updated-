{
 "cells": [
  {
   "cell_type": "markdown",
   "id": "a5e551fe-d189-469d-b340-5fb23d06f2fe",
   "metadata": {},
   "source": [
    "\n",
    "# Taylor Swift!!!  #\n",
    "## 🦋🌟👗🧣🏙🐍💘🍷🥂 ## \n",
    "\"We're happy, free, confused and lonely at the same time.\"\n",
    "-22"
   ]
  },
  {
   "cell_type": "markdown",
   "id": "caddcbbf-98af-4418-820e-4a970728dfe7",
   "metadata": {},
   "source": [
    "### public Spotify data ###"
   ]
  },
  {
   "cell_type": "code",
   "execution_count": 6,
   "id": "def3a902-cce8-4606-bbbd-312449f2ac5e",
   "metadata": {},
   "outputs": [],
   "source": [
    "import spotipy"
   ]
  },
  {
   "cell_type": "code",
   "execution_count": 7,
   "id": "205da195-7405-485c-80eb-307c7313e562",
   "metadata": {},
   "outputs": [],
   "source": [
    "!touch .env"
   ]
  },
  {
   "cell_type": "code",
   "execution_count": 8,
   "id": "8c730fca-aaa5-469d-8627-735a029a3b47",
   "metadata": {},
   "outputs": [
    {
     "data": {
      "text/plain": [
       "True"
      ]
     },
     "execution_count": 8,
     "metadata": {},
     "output_type": "execute_result"
    }
   ],
   "source": [
    "import os\n",
    "from dotenv import load_dotenv\n",
    "load_dotenv()"
   ]
  },
  {
   "cell_type": "code",
   "execution_count": 9,
   "id": "b9eab782-b76c-4943-a108-d058dd4747c0",
   "metadata": {},
   "outputs": [],
   "source": [
    "PROJECT_API_KEY = os.getenv('PROJECT_API_KEY')\n",
    "PROJECT_API_KEY_SECRET = os.getenv('PROJECT_API_KEY_SECRET')"
   ]
  },
  {
   "cell_type": "markdown",
   "id": "cb6814dd",
   "metadata": {},
   "source": []
  },
  {
   "cell_type": "code",
   "execution_count": 10,
   "id": "4b733db4-3a16-4ec1-8d48-2cf61858fe9e",
   "metadata": {},
   "outputs": [],
   "source": [
    "from spotipy.oauth2 import SpotifyClientCredentials\n",
    "\n",
    "spotify = spotipy.Spotify(auth_manager=SpotifyClientCredentials(\n",
    "    PROJECT_API_KEY,\n",
    "    PROJECT_API_KEY_SECRET,\n",
    "))"
   ]
  },
  {
   "cell_type": "markdown",
   "id": "dba85946-4ed6-4f32-8f0b-77b5d34c811c",
   "metadata": {},
   "source": [
    "### \"Who's Taylor Swift?\" ###\n",
    "### \"OMG -- am I about to introduce you to Taylor Swift?\" ###"
   ]
  },
  {
   "cell_type": "code",
   "execution_count": 11,
   "id": "e24e6a0d-5300-4ace-8633-2d3f09c7a24e",
   "metadata": {},
   "outputs": [],
   "source": [
    "results = spotify.search(q='artist:Taylor Swift', type='artist')"
   ]
  },
  {
   "cell_type": "code",
   "execution_count": 12,
   "id": "5f132594-65a1-4875-ae85-3a3d4eae337b",
   "metadata": {},
   "outputs": [
    {
     "data": {
      "text/plain": [
       "{'artists': {'href': 'https://api.spotify.com/v1/search?query=artist%3ATaylor+Swift&type=artist&offset=0&limit=10',\n",
       "  'items': [{'external_urls': {'spotify': 'https://open.spotify.com/artist/06HL4z0CvFAxyc27GXpf02'},\n",
       "    'followers': {'href': None, 'total': 106804801},\n",
       "    'genres': ['pop'],\n",
       "    'href': 'https://api.spotify.com/v1/artists/06HL4z0CvFAxyc27GXpf02',\n",
       "    'id': '06HL4z0CvFAxyc27GXpf02',\n",
       "    'images': [{'height': 640,\n",
       "      'url': 'https://i.scdn.co/image/ab6761610000e5ebe672b5f553298dcdccb0e676',\n",
       "      'width': 640},\n",
       "     {'height': 320,\n",
       "      'url': 'https://i.scdn.co/image/ab67616100005174e672b5f553298dcdccb0e676',\n",
       "      'width': 320},\n",
       "     {'height': 160,\n",
       "      'url': 'https://i.scdn.co/image/ab6761610000f178e672b5f553298dcdccb0e676',\n",
       "      'width': 160}],\n",
       "    'name': 'Taylor Swift',\n",
       "    'popularity': 100,\n",
       "    'type': 'artist',\n",
       "    'uri': 'spotify:artist:06HL4z0CvFAxyc27GXpf02'},\n",
       "   {'external_urls': {'spotify': 'https://open.spotify.com/artist/0DwbGCdaD8YLRiVUEiV70Q'},\n",
       "    'followers': {'href': None, 'total': 3053},\n",
       "    'genres': [],\n",
       "    'href': 'https://api.spotify.com/v1/artists/0DwbGCdaD8YLRiVUEiV70Q',\n",
       "    'id': '0DwbGCdaD8YLRiVUEiV70Q',\n",
       "    'images': [{'height': 640,\n",
       "      'url': 'https://i.scdn.co/image/ab67616d0000b273d422ca6ec8b8e1d3182760ee',\n",
       "      'width': 640},\n",
       "     {'height': 300,\n",
       "      'url': 'https://i.scdn.co/image/ab67616d00001e02d422ca6ec8b8e1d3182760ee',\n",
       "      'width': 300},\n",
       "     {'height': 64,\n",
       "      'url': 'https://i.scdn.co/image/ab67616d00004851d422ca6ec8b8e1d3182760ee',\n",
       "      'width': 64}],\n",
       "    'name': 'Taylor Swift Piano Covers',\n",
       "    'popularity': 34,\n",
       "    'type': 'artist',\n",
       "    'uri': 'spotify:artist:0DwbGCdaD8YLRiVUEiV70Q'},\n",
       "   {'external_urls': {'spotify': 'https://open.spotify.com/artist/77sIXuVLuSbwyocMjW2IlL'},\n",
       "    'followers': {'href': None, 'total': 46},\n",
       "    'genres': [],\n",
       "    'href': 'https://api.spotify.com/v1/artists/77sIXuVLuSbwyocMjW2IlL',\n",
       "    'id': '77sIXuVLuSbwyocMjW2IlL',\n",
       "    'images': [{'height': 640,\n",
       "      'url': 'https://i.scdn.co/image/ab67616d0000b273e5ef52adb09ad7c17d493725',\n",
       "      'width': 640},\n",
       "     {'height': 300,\n",
       "      'url': 'https://i.scdn.co/image/ab67616d00001e02e5ef52adb09ad7c17d493725',\n",
       "      'width': 300},\n",
       "     {'height': 64,\n",
       "      'url': 'https://i.scdn.co/image/ab67616d00004851e5ef52adb09ad7c17d493725',\n",
       "      'width': 64}],\n",
       "    'name': 'Taylor Swift Songs On Piano',\n",
       "    'popularity': 11,\n",
       "    'type': 'artist',\n",
       "    'uri': 'spotify:artist:77sIXuVLuSbwyocMjW2IlL'},\n",
       "   {'external_urls': {'spotify': 'https://open.spotify.com/artist/7kaJOOAkXnnaA7nlEb9p0H'},\n",
       "    'followers': {'href': None, 'total': 99},\n",
       "    'genres': [],\n",
       "    'href': 'https://api.spotify.com/v1/artists/7kaJOOAkXnnaA7nlEb9p0H',\n",
       "    'id': '7kaJOOAkXnnaA7nlEb9p0H',\n",
       "    'images': [{'height': 640,\n",
       "      'url': 'https://i.scdn.co/image/ab67616d0000b2737dca066ca62e4ebb583b8058',\n",
       "      'width': 640},\n",
       "     {'height': 300,\n",
       "      'url': 'https://i.scdn.co/image/ab67616d00001e027dca066ca62e4ebb583b8058',\n",
       "      'width': 300},\n",
       "     {'height': 64,\n",
       "      'url': 'https://i.scdn.co/image/ab67616d000048517dca066ca62e4ebb583b8058',\n",
       "      'width': 64}],\n",
       "    'name': 'Taylor Swifta',\n",
       "    'popularity': 8,\n",
       "    'type': 'artist',\n",
       "    'uri': 'spotify:artist:7kaJOOAkXnnaA7nlEb9p0H'},\n",
       "   {'external_urls': {'spotify': 'https://open.spotify.com/artist/7oW3aIseIypoEqcOqvzUfS'},\n",
       "    'followers': {'href': None, 'total': 55},\n",
       "    'genres': [],\n",
       "    'href': 'https://api.spotify.com/v1/artists/7oW3aIseIypoEqcOqvzUfS',\n",
       "    'id': '7oW3aIseIypoEqcOqvzUfS',\n",
       "    'images': [],\n",
       "    'name': 'taylorr swiftt',\n",
       "    'popularity': 6,\n",
       "    'type': 'artist',\n",
       "    'uri': 'spotify:artist:7oW3aIseIypoEqcOqvzUfS'},\n",
       "   {'external_urls': {'spotify': 'https://open.spotify.com/artist/3OGj4jFXF7Cw4ORWS7T3ra'},\n",
       "    'followers': {'href': None, 'total': 256},\n",
       "    'genres': [],\n",
       "    'href': 'https://api.spotify.com/v1/artists/3OGj4jFXF7Cw4ORWS7T3ra',\n",
       "    'id': '3OGj4jFXF7Cw4ORWS7T3ra',\n",
       "    'images': [{'height': 640,\n",
       "      'url': 'https://i.scdn.co/image/ab67616d0000b273bbd79a349857d5e5ec3f88d0',\n",
       "      'width': 640},\n",
       "     {'height': 300,\n",
       "      'url': 'https://i.scdn.co/image/ab67616d00001e02bbd79a349857d5e5ec3f88d0',\n",
       "      'width': 300},\n",
       "     {'height': 64,\n",
       "      'url': 'https://i.scdn.co/image/ab67616d00004851bbd79a349857d5e5ec3f88d0',\n",
       "      'width': 64}],\n",
       "    'name': 'Taylor Swift Facts',\n",
       "    'popularity': 3,\n",
       "    'type': 'artist',\n",
       "    'uri': 'spotify:artist:3OGj4jFXF7Cw4ORWS7T3ra'},\n",
       "   {'external_urls': {'spotify': 'https://open.spotify.com/artist/14waR9FpjuHkqhd3DlMAYu'},\n",
       "    'followers': {'href': None, 'total': 45},\n",
       "    'genres': [],\n",
       "    'href': 'https://api.spotify.com/v1/artists/14waR9FpjuHkqhd3DlMAYu',\n",
       "    'id': '14waR9FpjuHkqhd3DlMAYu',\n",
       "    'images': [],\n",
       "    'name': 'Taylor Swiftsz',\n",
       "    'popularity': 0,\n",
       "    'type': 'artist',\n",
       "    'uri': 'spotify:artist:14waR9FpjuHkqhd3DlMAYu'},\n",
       "   {'external_urls': {'spotify': 'https://open.spotify.com/artist/5Yzz6SisIkcvuhKSdJ02en'},\n",
       "    'followers': {'href': None, 'total': 90},\n",
       "    'genres': [],\n",
       "    'href': 'https://api.spotify.com/v1/artists/5Yzz6SisIkcvuhKSdJ02en',\n",
       "    'id': '5Yzz6SisIkcvuhKSdJ02en',\n",
       "    'images': [{'height': 640,\n",
       "      'url': 'https://i.scdn.co/image/ab67616d0000b273623c43e08dff5dce47beb004',\n",
       "      'width': 640},\n",
       "     {'height': 300,\n",
       "      'url': 'https://i.scdn.co/image/ab67616d00001e02623c43e08dff5dce47beb004',\n",
       "      'width': 300},\n",
       "     {'height': 64,\n",
       "      'url': 'https://i.scdn.co/image/ab67616d00004851623c43e08dff5dce47beb004',\n",
       "      'width': 64}],\n",
       "    'name': 'Taylor Swifter',\n",
       "    'popularity': 0,\n",
       "    'type': 'artist',\n",
       "    'uri': 'spotify:artist:5Yzz6SisIkcvuhKSdJ02en'},\n",
       "   {'external_urls': {'spotify': 'https://open.spotify.com/artist/5D4eBBCFWPid24YVLH7206'},\n",
       "    'followers': {'href': None, 'total': 39},\n",
       "    'genres': [],\n",
       "    'href': 'https://api.spotify.com/v1/artists/5D4eBBCFWPid24YVLH7206',\n",
       "    'id': '5D4eBBCFWPid24YVLH7206',\n",
       "    'images': [{'height': 640,\n",
       "      'url': 'https://i.scdn.co/image/ab67616d0000b273b8f456b4e50c43b271d81704',\n",
       "      'width': 640},\n",
       "     {'height': 300,\n",
       "      'url': 'https://i.scdn.co/image/ab67616d00001e02b8f456b4e50c43b271d81704',\n",
       "      'width': 300},\n",
       "     {'height': 64,\n",
       "      'url': 'https://i.scdn.co/image/ab67616d00004851b8f456b4e50c43b271d81704',\n",
       "      'width': 64}],\n",
       "    'name': 'Taylor Swiftoo',\n",
       "    'popularity': 0,\n",
       "    'type': 'artist',\n",
       "    'uri': 'spotify:artist:5D4eBBCFWPid24YVLH7206'},\n",
       "   {'external_urls': {'spotify': 'https://open.spotify.com/artist/1bgoHMYkNqVC9PTOrQECts'},\n",
       "    'followers': {'href': None, 'total': 281},\n",
       "    'genres': [],\n",
       "    'href': 'https://api.spotify.com/v1/artists/1bgoHMYkNqVC9PTOrQECts',\n",
       "    'id': '1bgoHMYkNqVC9PTOrQECts',\n",
       "    'images': [],\n",
       "    'name': 'Ed Sheeran Taylor Swift',\n",
       "    'popularity': 1,\n",
       "    'type': 'artist',\n",
       "    'uri': 'spotify:artist:1bgoHMYkNqVC9PTOrQECts'}],\n",
       "  'limit': 10,\n",
       "  'next': 'https://api.spotify.com/v1/search?query=artist%3ATaylor+Swift&type=artist&offset=10&limit=10',\n",
       "  'offset': 0,\n",
       "  'previous': None,\n",
       "  'total': 13}}"
      ]
     },
     "execution_count": 12,
     "metadata": {},
     "output_type": "execute_result"
    }
   ],
   "source": [
    "results"
   ]
  },
  {
   "cell_type": "code",
   "execution_count": 13,
   "id": "2a4353c6-9ad7-4dc6-be30-29ec98bc1a98",
   "metadata": {},
   "outputs": [
    {
     "data": {
      "text/plain": [
       "{'external_urls': {'spotify': 'https://open.spotify.com/artist/06HL4z0CvFAxyc27GXpf02'},\n",
       " 'followers': {'href': None, 'total': 106804801},\n",
       " 'genres': ['pop'],\n",
       " 'href': 'https://api.spotify.com/v1/artists/06HL4z0CvFAxyc27GXpf02',\n",
       " 'id': '06HL4z0CvFAxyc27GXpf02',\n",
       " 'images': [{'height': 640,\n",
       "   'url': 'https://i.scdn.co/image/ab6761610000e5ebe672b5f553298dcdccb0e676',\n",
       "   'width': 640},\n",
       "  {'height': 320,\n",
       "   'url': 'https://i.scdn.co/image/ab67616100005174e672b5f553298dcdccb0e676',\n",
       "   'width': 320},\n",
       "  {'height': 160,\n",
       "   'url': 'https://i.scdn.co/image/ab6761610000f178e672b5f553298dcdccb0e676',\n",
       "   'width': 160}],\n",
       " 'name': 'Taylor Swift',\n",
       " 'popularity': 100,\n",
       " 'type': 'artist',\n",
       " 'uri': 'spotify:artist:06HL4z0CvFAxyc27GXpf02'}"
      ]
     },
     "execution_count": 13,
     "metadata": {},
     "output_type": "execute_result"
    }
   ],
   "source": [
    "results['artists']['items'][0]"
   ]
  },
  {
   "cell_type": "markdown",
   "id": "9d641b44-f39c-45fe-a22b-b9c0597a5396",
   "metadata": {},
   "source": [
    "### soooo, what are we listening to? "
   ]
  },
  {
   "cell_type": "code",
   "execution_count": 14,
   "id": "825f30bd-2246-43bf-93a2-bc95042c49ab",
   "metadata": {},
   "outputs": [
    {
     "name": "stdout",
     "output_type": "stream",
     "text": [
      "Cruel Summer\n",
      "Lover\n",
      "Anti-Hero\n",
      "cardigan\n",
      "Is It Over Now? (Taylor's Version) (From The Vault)\n",
      "Don’t Blame Me\n",
      "august\n",
      "Karma\n",
      "Love Story (Taylor’s Version)\n",
      "Blank Space\n"
     ]
    }
   ],
   "source": [
    "client_credentials_manager = SpotifyClientCredentials(PROJECT_API_KEY,\n",
    "    PROJECT_API_KEY_SECRET,\n",
    ")\n",
    "sp = spotipy.Spotify(client_credentials_manager=client_credentials_manager)\n",
    "\n",
    "results = sp.artist_top_tracks('spotify:artist:06HL4z0CvFAxyc27GXpf02')\n",
    "\n",
    "for track in results['tracks'][:10]:\n",
    "    print(track['name'])"
   ]
  },
  {
   "cell_type": "markdown",
   "id": "45002d59-2984-47f2-b101-c1b9dfa8842a",
   "metadata": {},
   "source": [
    "### Play counts! (Taylor's Version) (From The Vault) ###\n",
    "It's a cruel summer"
   ]
  },
  {
   "cell_type": "code",
   "execution_count": 15,
   "id": "f8346719-6c53-4873-8c2b-66cc2c760db8",
   "metadata": {},
   "outputs": [
    {
     "name": "stdout",
     "output_type": "stream",
     "text": [
      "Requirement already satisfied: playwright-stealth in /Users/renatacarlosdaou/.pyenv/versions/3.11.6/lib/python3.11/site-packages (1.0.6)\n",
      "Requirement already satisfied: playwright in /Users/renatacarlosdaou/.pyenv/versions/3.11.6/lib/python3.11/site-packages (from playwright-stealth) (1.40.0)\n",
      "Requirement already satisfied: greenlet==3.0.1 in /Users/renatacarlosdaou/.pyenv/versions/3.11.6/lib/python3.11/site-packages (from playwright->playwright-stealth) (3.0.1)\n",
      "Requirement already satisfied: pyee==11.0.1 in /Users/renatacarlosdaou/.pyenv/versions/3.11.6/lib/python3.11/site-packages (from playwright->playwright-stealth) (11.0.1)\n",
      "Requirement already satisfied: typing-extensions in /Users/renatacarlosdaou/.pyenv/versions/3.11.6/lib/python3.11/site-packages (from pyee==11.0.1->playwright->playwright-stealth) (4.8.0)\n",
      "\n",
      "\u001b[1m[\u001b[0m\u001b[34;49mnotice\u001b[0m\u001b[1;39;49m]\u001b[0m\u001b[39;49m A new release of pip is available: \u001b[0m\u001b[31;49m23.3.2\u001b[0m\u001b[39;49m -> \u001b[0m\u001b[32;49m24.0\u001b[0m\n",
      "\u001b[1m[\u001b[0m\u001b[34;49mnotice\u001b[0m\u001b[1;39;49m]\u001b[0m\u001b[39;49m To update, run: \u001b[0m\u001b[32;49mpip install --upgrade pip\u001b[0m\n"
     ]
    }
   ],
   "source": [
    "!pip install playwright-stealth"
   ]
  },
  {
   "cell_type": "code",
   "execution_count": 32,
   "id": "d2d6506d-f605-42e1-9cf6-fea356cc7dfe",
   "metadata": {},
   "outputs": [],
   "source": [
    "from playwright.async_api import async_playwright\n",
    "from playwright_stealth import stealth_async"
   ]
  },
  {
   "cell_type": "code",
   "execution_count": 33,
   "id": "ef81b624-b072-4fdd-b404-906ae3b748a6",
   "metadata": {},
   "outputs": [],
   "source": [
    "playwright = await async_playwright().start()\n",
    "browser = await playwright.chromium.launch(headless = True)\n",
    "page = await browser.new_page()"
   ]
  },
  {
   "cell_type": "code",
   "execution_count": 34,
   "id": "2c937844-4d50-47f9-8f75-9ce1b3d45aae",
   "metadata": {},
   "outputs": [
    {
     "data": {
      "text/plain": [
       "<Response url='https://open.spotify.com/artist/06HL4z0CvFAxyc27GXpf02' request=<Request url='https://open.spotify.com/artist/06HL4z0CvFAxyc27GXpf02' method='GET'>>"
      ]
     },
     "execution_count": 34,
     "metadata": {},
     "output_type": "execute_result"
    }
   ],
   "source": [
    "await page.goto(\"https://open.spotify.com/artist/06HL4z0CvFAxyc27GXpf02\") "
   ]
  },
  {
   "cell_type": "code",
   "execution_count": 19,
   "id": "498a3b58-d58c-46e3-9c6a-f7667463739b",
   "metadata": {},
   "outputs": [],
   "source": [
    "all_Tay = page.locator('See more')"
   ]
  },
  {
   "cell_type": "code",
   "execution_count": 20,
   "id": "3c6c3720-e80d-492e-b869-bb0fc9f5d834",
   "metadata": {},
   "outputs": [],
   "source": [
    "await page.click('text=See more')"
   ]
  },
  {
   "cell_type": "code",
   "execution_count": 21,
   "id": "5a4e5957-80d8-4b12-b060-627ff35141ae",
   "metadata": {},
   "outputs": [],
   "source": [
    "from bs4 import BeautifulSoup\n",
    "\n",
    "doc = BeautifulSoup(await page.content())"
   ]
  },
  {
   "cell_type": "code",
   "execution_count": 22,
   "id": "ecbba615-ab7e-44f9-9a3d-50e6b265e21d",
   "metadata": {},
   "outputs": [],
   "source": [
    "top_songs = doc.find_all('div', role='row')"
   ]
  },
  {
   "cell_type": "code",
   "execution_count": 23,
   "id": "1dda1257-d42f-4028-aa72-3772b97c4829",
   "metadata": {},
   "outputs": [
    {
     "data": {
      "text/plain": [
       "[<div aria-rowindex=\"1\" aria-selected=\"false\" role=\"row\"><div class=\"IjYxRc5luMiDPhKhZVUH UpiE7J6vPrJIa59qxts4\" data-testid=\"tracklist-row\" draggable=\"true\" role=\"presentation\"><div aria-colindex=\"1\" class=\"fS0C4IgbHviZxIVGC736\" role=\"gridcell\"><div class=\"ucB9avGYvzsmzXUOw0S7\"><span class=\"Text__TextElement-sc-if376j-0 gYdBJW encore-text-body-medium xNyTkXEncSjszLNI65Nq\" data-encore-id=\"text\">1</span><button aria-label=\"Play Cruel Summer by Taylor Swift\" class=\"j2s64Lz8y6VzBLB_V9Gm\" tabindex=\"-1\"><svg aria-hidden=\"true\" class=\"Svg-sc-ytk21e-0 bneLcE zOsKPnD_9x3KJqQCSmAq\" data-encore-id=\"icon\" role=\"img\" viewbox=\"0 0 24 24\"><path d=\"m7.05 3.606 13.49 7.788a.7.7 0 0 1 0 1.212L7.05 20.394A.7.7 0 0 1 6 19.788V4.212a.7.7 0 0 1 1.05-.606z\"></path></svg></button></div></div><div aria-colindex=\"2\" class=\"w46g_LQVSLE9xK399VYf\" role=\"gridcell\"><img alt=\"\" aria-hidden=\"false\" class=\"mMx2LUixlnN_Fu45JpFB IqDKYprOtD_EJR1WClPv Yn2Ei5QZn19gria6LjZj\" draggable=\"false\" height=\"40\" loading=\"eager\" src=\"https://i.scdn.co/image/ab67616d00001e02e787cffec20aa2a396a61647\" style=\"border-radius: 4px;\" width=\"40\"/><div class=\"_iQpvk1c9OgRAc8KRTlH\"><a class=\"btE2c3IKaOXZ4VNAb8WQ\" data-testid=\"internal-track-link\" draggable=\"false\" href=\"/track/1BxfuPKGuaTgP7aM0Bbdwr\" tabindex=\"-1\"><div class=\"Text__TextElement-sc-if376j-0 ksSRyh encore-text-body-medium btE2c3IKaOXZ4VNAb8WQ standalone-ellipsis-one-line\" data-encore-id=\"text\" dir=\"auto\">Cruel Summer</div></a></div></div><div aria-colindex=\"3\" class=\"_TH6YAXEzJtzSxhkGSqu\" role=\"gridcell\"><div class=\"Text__TextElement-sc-if376j-0 gYdBJW encore-text-body-small HxDMwNr5oCxTOyqt85gi\" data-encore-id=\"text\">1,978,869,708</div></div><div aria-colindex=\"4\" class=\"PAqIqZXvse_3h6sDVxU0\" role=\"gridcell\"><button aria-checked=\"false\" aria-label=\"Save to Your Library\" class=\"Button-sc-1dqy6lx-0 fpsDgO GcODM2Bp3srQqJzi8Tzs\" data-encore-id=\"buttonTertiary\" data-testid=\"add-button\" tabindex=\"-1\"><span aria-hidden=\"true\" class=\"IconWrapper__Wrapper-sc-16usrgb-0 hYdsxw\"><svg aria-hidden=\"true\" class=\"Svg-sc-ytk21e-0 dYnaPI\" data-encore-id=\"icon\" role=\"img\" viewbox=\"0 0 16 16\"><path d=\"M1.69 2A4.582 4.582 0 0 1 8 2.023 4.583 4.583 0 0 1 11.88.817h.002a4.618 4.618 0 0 1 3.782 3.65v.003a4.543 4.543 0 0 1-1.011 3.84L9.35 14.629a1.765 1.765 0 0 1-2.093.464 1.762 1.762 0 0 1-.605-.463L1.348 8.309A4.582 4.582 0 0 1 1.689 2zm3.158.252A3.082 3.082 0 0 0 2.49 7.337l.005.005L7.8 13.664a.264.264 0 0 0 .311.069.262.262 0 0 0 .09-.069l5.312-6.33a3.043 3.043 0 0 0 .68-2.573 3.118 3.118 0 0 0-2.551-2.463 3.079 3.079 0 0 0-2.612.816l-.007.007a1.501 1.501 0 0 1-2.045 0l-.009-.008a3.082 3.082 0 0 0-2.121-.861z\"></path></svg></span></button><div class=\"Text__TextElement-sc-if376j-0 duYgEj encore-text-body-small l5CmSxiQaap8rWOOpEpk\" data-encore-id=\"text\">2:58</div><button aria-haspopup=\"menu\" aria-label=\"More options for Cruel Summer by Taylor Swift\" class=\"Button-sc-1dqy6lx-0 fpsDgO ObVor_8sQq5whKbtWs8a\" data-encore-id=\"buttonTertiary\" data-testid=\"more-button\" tabindex=\"-1\"><span aria-hidden=\"true\" class=\"IconWrapper__Wrapper-sc-16usrgb-0 hYdsxw\"><svg aria-hidden=\"true\" class=\"Svg-sc-ytk21e-0 dYnaPI\" data-encore-id=\"icon\" role=\"img\" viewbox=\"0 0 16 16\"><path d=\"M3 8a1.5 1.5 0 1 1-3 0 1.5 1.5 0 0 1 3 0zm6.5 0a1.5 1.5 0 1 1-3 0 1.5 1.5 0 0 1 3 0zM16 8a1.5 1.5 0 1 1-3 0 1.5 1.5 0 0 1 3 0z\"></path></svg></span></button></div></div></div>,\n",
       " <div aria-rowindex=\"2\" aria-selected=\"false\" role=\"row\"><div class=\"IjYxRc5luMiDPhKhZVUH UpiE7J6vPrJIa59qxts4\" data-testid=\"tracklist-row\" draggable=\"true\" role=\"presentation\"><div aria-colindex=\"1\" class=\"fS0C4IgbHviZxIVGC736\" role=\"gridcell\"><div class=\"ucB9avGYvzsmzXUOw0S7\"><span class=\"Text__TextElement-sc-if376j-0 gYdBJW encore-text-body-medium xNyTkXEncSjszLNI65Nq\" data-encore-id=\"text\">2</span><button aria-label=\"Play Lover by Taylor Swift\" class=\"j2s64Lz8y6VzBLB_V9Gm\" tabindex=\"-1\"><svg aria-hidden=\"true\" class=\"Svg-sc-ytk21e-0 bneLcE zOsKPnD_9x3KJqQCSmAq\" data-encore-id=\"icon\" role=\"img\" viewbox=\"0 0 24 24\"><path d=\"m7.05 3.606 13.49 7.788a.7.7 0 0 1 0 1.212L7.05 20.394A.7.7 0 0 1 6 19.788V4.212a.7.7 0 0 1 1.05-.606z\"></path></svg></button></div></div><div aria-colindex=\"2\" class=\"w46g_LQVSLE9xK399VYf\" role=\"gridcell\"><img alt=\"\" aria-hidden=\"false\" class=\"mMx2LUixlnN_Fu45JpFB IqDKYprOtD_EJR1WClPv Yn2Ei5QZn19gria6LjZj\" draggable=\"false\" height=\"40\" loading=\"eager\" src=\"https://i.scdn.co/image/ab67616d00001e02e787cffec20aa2a396a61647\" style=\"border-radius: 4px;\" width=\"40\"/><div class=\"_iQpvk1c9OgRAc8KRTlH\"><a class=\"btE2c3IKaOXZ4VNAb8WQ\" data-testid=\"internal-track-link\" draggable=\"false\" href=\"/track/1dGr1c8CrMLDpV6mPbImSI\" tabindex=\"-1\"><div class=\"Text__TextElement-sc-if376j-0 ksSRyh encore-text-body-medium btE2c3IKaOXZ4VNAb8WQ standalone-ellipsis-one-line\" data-encore-id=\"text\" dir=\"auto\">Lover</div></a></div></div><div aria-colindex=\"3\" class=\"_TH6YAXEzJtzSxhkGSqu\" role=\"gridcell\"><div class=\"Text__TextElement-sc-if376j-0 gYdBJW encore-text-body-small HxDMwNr5oCxTOyqt85gi\" data-encore-id=\"text\">1,331,944,397</div></div><div aria-colindex=\"4\" class=\"PAqIqZXvse_3h6sDVxU0\" role=\"gridcell\"><button aria-checked=\"false\" aria-label=\"Save to Your Library\" class=\"Button-sc-1dqy6lx-0 fpsDgO GcODM2Bp3srQqJzi8Tzs\" data-encore-id=\"buttonTertiary\" data-testid=\"add-button\" tabindex=\"-1\"><span aria-hidden=\"true\" class=\"IconWrapper__Wrapper-sc-16usrgb-0 hYdsxw\"><svg aria-hidden=\"true\" class=\"Svg-sc-ytk21e-0 dYnaPI\" data-encore-id=\"icon\" role=\"img\" viewbox=\"0 0 16 16\"><path d=\"M1.69 2A4.582 4.582 0 0 1 8 2.023 4.583 4.583 0 0 1 11.88.817h.002a4.618 4.618 0 0 1 3.782 3.65v.003a4.543 4.543 0 0 1-1.011 3.84L9.35 14.629a1.765 1.765 0 0 1-2.093.464 1.762 1.762 0 0 1-.605-.463L1.348 8.309A4.582 4.582 0 0 1 1.689 2zm3.158.252A3.082 3.082 0 0 0 2.49 7.337l.005.005L7.8 13.664a.264.264 0 0 0 .311.069.262.262 0 0 0 .09-.069l5.312-6.33a3.043 3.043 0 0 0 .68-2.573 3.118 3.118 0 0 0-2.551-2.463 3.079 3.079 0 0 0-2.612.816l-.007.007a1.501 1.501 0 0 1-2.045 0l-.009-.008a3.082 3.082 0 0 0-2.121-.861z\"></path></svg></span></button><div class=\"Text__TextElement-sc-if376j-0 duYgEj encore-text-body-small l5CmSxiQaap8rWOOpEpk\" data-encore-id=\"text\">3:41</div><button aria-haspopup=\"menu\" aria-label=\"More options for Lover by Taylor Swift\" class=\"Button-sc-1dqy6lx-0 fpsDgO ObVor_8sQq5whKbtWs8a\" data-encore-id=\"buttonTertiary\" data-testid=\"more-button\" tabindex=\"-1\"><span aria-hidden=\"true\" class=\"IconWrapper__Wrapper-sc-16usrgb-0 hYdsxw\"><svg aria-hidden=\"true\" class=\"Svg-sc-ytk21e-0 dYnaPI\" data-encore-id=\"icon\" role=\"img\" viewbox=\"0 0 16 16\"><path d=\"M3 8a1.5 1.5 0 1 1-3 0 1.5 1.5 0 0 1 3 0zm6.5 0a1.5 1.5 0 1 1-3 0 1.5 1.5 0 0 1 3 0zM16 8a1.5 1.5 0 1 1-3 0 1.5 1.5 0 0 1 3 0z\"></path></svg></span></button></div></div></div>,\n",
       " <div aria-rowindex=\"3\" aria-selected=\"false\" role=\"row\"><div class=\"IjYxRc5luMiDPhKhZVUH UpiE7J6vPrJIa59qxts4\" data-testid=\"tracklist-row\" draggable=\"true\" role=\"presentation\"><div aria-colindex=\"1\" class=\"fS0C4IgbHviZxIVGC736\" role=\"gridcell\"><div class=\"ucB9avGYvzsmzXUOw0S7\"><span class=\"Text__TextElement-sc-if376j-0 gYdBJW encore-text-body-medium xNyTkXEncSjszLNI65Nq\" data-encore-id=\"text\">3</span><button aria-label=\"Play Anti-Hero by Taylor Swift\" class=\"j2s64Lz8y6VzBLB_V9Gm\" tabindex=\"-1\"><svg aria-hidden=\"true\" class=\"Svg-sc-ytk21e-0 bneLcE zOsKPnD_9x3KJqQCSmAq\" data-encore-id=\"icon\" role=\"img\" viewbox=\"0 0 24 24\"><path d=\"m7.05 3.606 13.49 7.788a.7.7 0 0 1 0 1.212L7.05 20.394A.7.7 0 0 1 6 19.788V4.212a.7.7 0 0 1 1.05-.606z\"></path></svg></button></div></div><div aria-colindex=\"2\" class=\"w46g_LQVSLE9xK399VYf\" role=\"gridcell\"><img alt=\"\" aria-hidden=\"false\" class=\"mMx2LUixlnN_Fu45JpFB IqDKYprOtD_EJR1WClPv Yn2Ei5QZn19gria6LjZj\" draggable=\"false\" height=\"40\" loading=\"eager\" src=\"https://i.scdn.co/image/ab67616d00001e02bb54dde68cd23e2a268ae0f5\" style=\"border-radius: 4px;\" width=\"40\"/><div class=\"_iQpvk1c9OgRAc8KRTlH\"><a class=\"btE2c3IKaOXZ4VNAb8WQ\" data-testid=\"internal-track-link\" draggable=\"false\" href=\"/track/0V3wPSX9ygBnCm8psDIegu\" tabindex=\"-1\"><div class=\"Text__TextElement-sc-if376j-0 ksSRyh encore-text-body-medium btE2c3IKaOXZ4VNAb8WQ standalone-ellipsis-one-line\" data-encore-id=\"text\" dir=\"auto\">Anti-Hero</div></a></div></div><div aria-colindex=\"3\" class=\"_TH6YAXEzJtzSxhkGSqu\" role=\"gridcell\"><div class=\"Text__TextElement-sc-if376j-0 gYdBJW encore-text-body-small HxDMwNr5oCxTOyqt85gi\" data-encore-id=\"text\">1,492,011,046</div></div><div aria-colindex=\"4\" class=\"PAqIqZXvse_3h6sDVxU0\" role=\"gridcell\"><button aria-checked=\"false\" aria-label=\"Save to Your Library\" class=\"Button-sc-1dqy6lx-0 fpsDgO GcODM2Bp3srQqJzi8Tzs\" data-encore-id=\"buttonTertiary\" data-testid=\"add-button\" tabindex=\"-1\"><span aria-hidden=\"true\" class=\"IconWrapper__Wrapper-sc-16usrgb-0 hYdsxw\"><svg aria-hidden=\"true\" class=\"Svg-sc-ytk21e-0 dYnaPI\" data-encore-id=\"icon\" role=\"img\" viewbox=\"0 0 16 16\"><path d=\"M1.69 2A4.582 4.582 0 0 1 8 2.023 4.583 4.583 0 0 1 11.88.817h.002a4.618 4.618 0 0 1 3.782 3.65v.003a4.543 4.543 0 0 1-1.011 3.84L9.35 14.629a1.765 1.765 0 0 1-2.093.464 1.762 1.762 0 0 1-.605-.463L1.348 8.309A4.582 4.582 0 0 1 1.689 2zm3.158.252A3.082 3.082 0 0 0 2.49 7.337l.005.005L7.8 13.664a.264.264 0 0 0 .311.069.262.262 0 0 0 .09-.069l5.312-6.33a3.043 3.043 0 0 0 .68-2.573 3.118 3.118 0 0 0-2.551-2.463 3.079 3.079 0 0 0-2.612.816l-.007.007a1.501 1.501 0 0 1-2.045 0l-.009-.008a3.082 3.082 0 0 0-2.121-.861z\"></path></svg></span></button><div class=\"Text__TextElement-sc-if376j-0 duYgEj encore-text-body-small l5CmSxiQaap8rWOOpEpk\" data-encore-id=\"text\">3:20</div><button aria-haspopup=\"menu\" aria-label=\"More options for Anti-Hero by Taylor Swift\" class=\"Button-sc-1dqy6lx-0 fpsDgO ObVor_8sQq5whKbtWs8a\" data-encore-id=\"buttonTertiary\" data-testid=\"more-button\" tabindex=\"-1\"><span aria-hidden=\"true\" class=\"IconWrapper__Wrapper-sc-16usrgb-0 hYdsxw\"><svg aria-hidden=\"true\" class=\"Svg-sc-ytk21e-0 dYnaPI\" data-encore-id=\"icon\" role=\"img\" viewbox=\"0 0 16 16\"><path d=\"M3 8a1.5 1.5 0 1 1-3 0 1.5 1.5 0 0 1 3 0zm6.5 0a1.5 1.5 0 1 1-3 0 1.5 1.5 0 0 1 3 0zM16 8a1.5 1.5 0 1 1-3 0 1.5 1.5 0 0 1 3 0z\"></path></svg></span></button></div></div></div>,\n",
       " <div aria-rowindex=\"4\" aria-selected=\"false\" role=\"row\"><div class=\"IjYxRc5luMiDPhKhZVUH UpiE7J6vPrJIa59qxts4\" data-testid=\"tracklist-row\" draggable=\"true\" role=\"presentation\"><div aria-colindex=\"1\" class=\"fS0C4IgbHviZxIVGC736\" role=\"gridcell\"><div class=\"ucB9avGYvzsmzXUOw0S7\"><span class=\"Text__TextElement-sc-if376j-0 gYdBJW encore-text-body-medium xNyTkXEncSjszLNI65Nq\" data-encore-id=\"text\">4</span><button aria-label=\"Play cardigan by Taylor Swift\" class=\"j2s64Lz8y6VzBLB_V9Gm\" tabindex=\"-1\"><svg aria-hidden=\"true\" class=\"Svg-sc-ytk21e-0 bneLcE zOsKPnD_9x3KJqQCSmAq\" data-encore-id=\"icon\" role=\"img\" viewbox=\"0 0 24 24\"><path d=\"m7.05 3.606 13.49 7.788a.7.7 0 0 1 0 1.212L7.05 20.394A.7.7 0 0 1 6 19.788V4.212a.7.7 0 0 1 1.05-.606z\"></path></svg></button></div></div><div aria-colindex=\"2\" class=\"w46g_LQVSLE9xK399VYf\" role=\"gridcell\"><img alt=\"\" aria-hidden=\"false\" class=\"mMx2LUixlnN_Fu45JpFB IqDKYprOtD_EJR1WClPv Yn2Ei5QZn19gria6LjZj\" draggable=\"false\" height=\"40\" loading=\"eager\" src=\"https://i.scdn.co/image/ab67616d00001e0295f754318336a07e85ec59bc\" style=\"border-radius: 4px;\" width=\"40\"/><div class=\"_iQpvk1c9OgRAc8KRTlH\"><a class=\"btE2c3IKaOXZ4VNAb8WQ\" data-testid=\"internal-track-link\" draggable=\"false\" href=\"/track/4R2kfaDFhslZEMJqAFNpdd\" tabindex=\"-1\"><div class=\"Text__TextElement-sc-if376j-0 ksSRyh encore-text-body-medium btE2c3IKaOXZ4VNAb8WQ standalone-ellipsis-one-line\" data-encore-id=\"text\" dir=\"auto\">cardigan</div></a></div></div><div aria-colindex=\"3\" class=\"_TH6YAXEzJtzSxhkGSqu\" role=\"gridcell\"><div class=\"Text__TextElement-sc-if376j-0 gYdBJW encore-text-body-small HxDMwNr5oCxTOyqt85gi\" data-encore-id=\"text\">1,234,651,335</div></div><div aria-colindex=\"4\" class=\"PAqIqZXvse_3h6sDVxU0\" role=\"gridcell\"><button aria-checked=\"false\" aria-label=\"Save to Your Library\" class=\"Button-sc-1dqy6lx-0 fpsDgO GcODM2Bp3srQqJzi8Tzs\" data-encore-id=\"buttonTertiary\" data-testid=\"add-button\" tabindex=\"-1\"><span aria-hidden=\"true\" class=\"IconWrapper__Wrapper-sc-16usrgb-0 hYdsxw\"><svg aria-hidden=\"true\" class=\"Svg-sc-ytk21e-0 dYnaPI\" data-encore-id=\"icon\" role=\"img\" viewbox=\"0 0 16 16\"><path d=\"M1.69 2A4.582 4.582 0 0 1 8 2.023 4.583 4.583 0 0 1 11.88.817h.002a4.618 4.618 0 0 1 3.782 3.65v.003a4.543 4.543 0 0 1-1.011 3.84L9.35 14.629a1.765 1.765 0 0 1-2.093.464 1.762 1.762 0 0 1-.605-.463L1.348 8.309A4.582 4.582 0 0 1 1.689 2zm3.158.252A3.082 3.082 0 0 0 2.49 7.337l.005.005L7.8 13.664a.264.264 0 0 0 .311.069.262.262 0 0 0 .09-.069l5.312-6.33a3.043 3.043 0 0 0 .68-2.573 3.118 3.118 0 0 0-2.551-2.463 3.079 3.079 0 0 0-2.612.816l-.007.007a1.501 1.501 0 0 1-2.045 0l-.009-.008a3.082 3.082 0 0 0-2.121-.861z\"></path></svg></span></button><div class=\"Text__TextElement-sc-if376j-0 duYgEj encore-text-body-small l5CmSxiQaap8rWOOpEpk\" data-encore-id=\"text\">3:59</div><button aria-haspopup=\"menu\" aria-label=\"More options for cardigan by Taylor Swift\" class=\"Button-sc-1dqy6lx-0 fpsDgO ObVor_8sQq5whKbtWs8a\" data-encore-id=\"buttonTertiary\" data-testid=\"more-button\" tabindex=\"-1\"><span aria-hidden=\"true\" class=\"IconWrapper__Wrapper-sc-16usrgb-0 hYdsxw\"><svg aria-hidden=\"true\" class=\"Svg-sc-ytk21e-0 dYnaPI\" data-encore-id=\"icon\" role=\"img\" viewbox=\"0 0 16 16\"><path d=\"M3 8a1.5 1.5 0 1 1-3 0 1.5 1.5 0 0 1 3 0zm6.5 0a1.5 1.5 0 1 1-3 0 1.5 1.5 0 0 1 3 0zM16 8a1.5 1.5 0 1 1-3 0 1.5 1.5 0 0 1 3 0z\"></path></svg></span></button></div></div></div>,\n",
       " <div aria-rowindex=\"5\" aria-selected=\"false\" role=\"row\"><div class=\"IjYxRc5luMiDPhKhZVUH UpiE7J6vPrJIa59qxts4\" data-testid=\"tracklist-row\" draggable=\"true\" role=\"presentation\"><div aria-colindex=\"1\" class=\"fS0C4IgbHviZxIVGC736\" role=\"gridcell\"><div class=\"ucB9avGYvzsmzXUOw0S7\"><span class=\"Text__TextElement-sc-if376j-0 gYdBJW encore-text-body-medium xNyTkXEncSjszLNI65Nq\" data-encore-id=\"text\">5</span><button aria-label=\"Play Is It Over Now? (Taylor's Version) (From The Vault) by Taylor Swift\" class=\"j2s64Lz8y6VzBLB_V9Gm\" tabindex=\"-1\"><svg aria-hidden=\"true\" class=\"Svg-sc-ytk21e-0 bneLcE zOsKPnD_9x3KJqQCSmAq\" data-encore-id=\"icon\" role=\"img\" viewbox=\"0 0 24 24\"><path d=\"m7.05 3.606 13.49 7.788a.7.7 0 0 1 0 1.212L7.05 20.394A.7.7 0 0 1 6 19.788V4.212a.7.7 0 0 1 1.05-.606z\"></path></svg></button></div></div><div aria-colindex=\"2\" class=\"w46g_LQVSLE9xK399VYf\" role=\"gridcell\"><img alt=\"\" aria-hidden=\"false\" class=\"mMx2LUixlnN_Fu45JpFB IqDKYprOtD_EJR1WClPv Yn2Ei5QZn19gria6LjZj\" draggable=\"false\" height=\"40\" loading=\"eager\" src=\"https://i.scdn.co/image/ab67616d00001e02904445d70d04eb24d6bb79ac\" style=\"border-radius: 4px;\" width=\"40\"/><div class=\"_iQpvk1c9OgRAc8KRTlH\"><a class=\"btE2c3IKaOXZ4VNAb8WQ\" data-testid=\"internal-track-link\" draggable=\"false\" href=\"/track/1Iq8oo9XkmmvCQiGOfORiz\" tabindex=\"-1\"><div class=\"Text__TextElement-sc-if376j-0 ksSRyh encore-text-body-medium btE2c3IKaOXZ4VNAb8WQ standalone-ellipsis-one-line\" data-encore-id=\"text\" dir=\"auto\">Is It Over Now? (Taylor's Version) (From The Vault)</div></a></div></div><div aria-colindex=\"3\" class=\"_TH6YAXEzJtzSxhkGSqu\" role=\"gridcell\"><div class=\"Text__TextElement-sc-if376j-0 gYdBJW encore-text-body-small HxDMwNr5oCxTOyqt85gi\" data-encore-id=\"text\">367,620,148</div></div><div aria-colindex=\"4\" class=\"PAqIqZXvse_3h6sDVxU0\" role=\"gridcell\"><button aria-checked=\"false\" aria-label=\"Save to Your Library\" class=\"Button-sc-1dqy6lx-0 fpsDgO GcODM2Bp3srQqJzi8Tzs\" data-encore-id=\"buttonTertiary\" data-testid=\"add-button\" tabindex=\"-1\"><span aria-hidden=\"true\" class=\"IconWrapper__Wrapper-sc-16usrgb-0 hYdsxw\"><svg aria-hidden=\"true\" class=\"Svg-sc-ytk21e-0 dYnaPI\" data-encore-id=\"icon\" role=\"img\" viewbox=\"0 0 16 16\"><path d=\"M1.69 2A4.582 4.582 0 0 1 8 2.023 4.583 4.583 0 0 1 11.88.817h.002a4.618 4.618 0 0 1 3.782 3.65v.003a4.543 4.543 0 0 1-1.011 3.84L9.35 14.629a1.765 1.765 0 0 1-2.093.464 1.762 1.762 0 0 1-.605-.463L1.348 8.309A4.582 4.582 0 0 1 1.689 2zm3.158.252A3.082 3.082 0 0 0 2.49 7.337l.005.005L7.8 13.664a.264.264 0 0 0 .311.069.262.262 0 0 0 .09-.069l5.312-6.33a3.043 3.043 0 0 0 .68-2.573 3.118 3.118 0 0 0-2.551-2.463 3.079 3.079 0 0 0-2.612.816l-.007.007a1.501 1.501 0 0 1-2.045 0l-.009-.008a3.082 3.082 0 0 0-2.121-.861z\"></path></svg></span></button><div class=\"Text__TextElement-sc-if376j-0 duYgEj encore-text-body-small l5CmSxiQaap8rWOOpEpk\" data-encore-id=\"text\">3:49</div><button aria-haspopup=\"menu\" aria-label=\"More options for Is It Over Now? (Taylor's Version) (From The Vault) by Taylor Swift\" class=\"Button-sc-1dqy6lx-0 fpsDgO ObVor_8sQq5whKbtWs8a\" data-encore-id=\"buttonTertiary\" data-testid=\"more-button\" tabindex=\"-1\"><span aria-hidden=\"true\" class=\"IconWrapper__Wrapper-sc-16usrgb-0 hYdsxw\"><svg aria-hidden=\"true\" class=\"Svg-sc-ytk21e-0 dYnaPI\" data-encore-id=\"icon\" role=\"img\" viewbox=\"0 0 16 16\"><path d=\"M3 8a1.5 1.5 0 1 1-3 0 1.5 1.5 0 0 1 3 0zm6.5 0a1.5 1.5 0 1 1-3 0 1.5 1.5 0 0 1 3 0zM16 8a1.5 1.5 0 1 1-3 0 1.5 1.5 0 0 1 3 0z\"></path></svg></span></button></div></div></div>,\n",
       " <div aria-rowindex=\"6\" aria-selected=\"false\" role=\"row\"><div class=\"IjYxRc5luMiDPhKhZVUH UpiE7J6vPrJIa59qxts4\" data-testid=\"tracklist-row\" draggable=\"true\" role=\"presentation\"><div aria-colindex=\"1\" class=\"fS0C4IgbHviZxIVGC736\" role=\"gridcell\"><div class=\"ucB9avGYvzsmzXUOw0S7\"><span class=\"Text__TextElement-sc-if376j-0 gYdBJW encore-text-body-medium xNyTkXEncSjszLNI65Nq\" data-encore-id=\"text\">6</span><button aria-label=\"Play Don’t Blame Me by Taylor Swift\" class=\"j2s64Lz8y6VzBLB_V9Gm\" tabindex=\"-1\"><svg aria-hidden=\"true\" class=\"Svg-sc-ytk21e-0 bneLcE zOsKPnD_9x3KJqQCSmAq\" data-encore-id=\"icon\" role=\"img\" viewbox=\"0 0 24 24\"><path d=\"m7.05 3.606 13.49 7.788a.7.7 0 0 1 0 1.212L7.05 20.394A.7.7 0 0 1 6 19.788V4.212a.7.7 0 0 1 1.05-.606z\"></path></svg></button></div></div><div aria-colindex=\"2\" class=\"w46g_LQVSLE9xK399VYf\" role=\"gridcell\"><img alt=\"\" aria-hidden=\"false\" class=\"mMx2LUixlnN_Fu45JpFB IqDKYprOtD_EJR1WClPv Yn2Ei5QZn19gria6LjZj\" draggable=\"false\" height=\"40\" loading=\"eager\" src=\"https://i.scdn.co/image/ab67616d00001e02da5d5aeeabacacc1263c0f4b\" style=\"border-radius: 4px;\" width=\"40\"/><div class=\"_iQpvk1c9OgRAc8KRTlH\"><a class=\"btE2c3IKaOXZ4VNAb8WQ\" data-testid=\"internal-track-link\" draggable=\"false\" href=\"/track/1R0a2iXumgCiFb7HEZ7gUE\" tabindex=\"-1\"><div class=\"Text__TextElement-sc-if376j-0 ksSRyh encore-text-body-medium btE2c3IKaOXZ4VNAb8WQ standalone-ellipsis-one-line\" data-encore-id=\"text\" dir=\"auto\">Don’t Blame Me</div></a></div></div><div aria-colindex=\"3\" class=\"_TH6YAXEzJtzSxhkGSqu\" role=\"gridcell\"><div class=\"Text__TextElement-sc-if376j-0 gYdBJW encore-text-body-small HxDMwNr5oCxTOyqt85gi\" data-encore-id=\"text\">1,060,400,451</div></div><div aria-colindex=\"4\" class=\"PAqIqZXvse_3h6sDVxU0\" role=\"gridcell\"><button aria-checked=\"false\" aria-label=\"Save to Your Library\" class=\"Button-sc-1dqy6lx-0 fpsDgO GcODM2Bp3srQqJzi8Tzs\" data-encore-id=\"buttonTertiary\" data-testid=\"add-button\" tabindex=\"-1\"><span aria-hidden=\"true\" class=\"IconWrapper__Wrapper-sc-16usrgb-0 hYdsxw\"><svg aria-hidden=\"true\" class=\"Svg-sc-ytk21e-0 dYnaPI\" data-encore-id=\"icon\" role=\"img\" viewbox=\"0 0 16 16\"><path d=\"M1.69 2A4.582 4.582 0 0 1 8 2.023 4.583 4.583 0 0 1 11.88.817h.002a4.618 4.618 0 0 1 3.782 3.65v.003a4.543 4.543 0 0 1-1.011 3.84L9.35 14.629a1.765 1.765 0 0 1-2.093.464 1.762 1.762 0 0 1-.605-.463L1.348 8.309A4.582 4.582 0 0 1 1.689 2zm3.158.252A3.082 3.082 0 0 0 2.49 7.337l.005.005L7.8 13.664a.264.264 0 0 0 .311.069.262.262 0 0 0 .09-.069l5.312-6.33a3.043 3.043 0 0 0 .68-2.573 3.118 3.118 0 0 0-2.551-2.463 3.079 3.079 0 0 0-2.612.816l-.007.007a1.501 1.501 0 0 1-2.045 0l-.009-.008a3.082 3.082 0 0 0-2.121-.861z\"></path></svg></span></button><div class=\"Text__TextElement-sc-if376j-0 duYgEj encore-text-body-small l5CmSxiQaap8rWOOpEpk\" data-encore-id=\"text\">3:56</div><button aria-haspopup=\"menu\" aria-label=\"More options for Don’t Blame Me by Taylor Swift\" class=\"Button-sc-1dqy6lx-0 fpsDgO ObVor_8sQq5whKbtWs8a\" data-encore-id=\"buttonTertiary\" data-testid=\"more-button\" tabindex=\"-1\"><span aria-hidden=\"true\" class=\"IconWrapper__Wrapper-sc-16usrgb-0 hYdsxw\"><svg aria-hidden=\"true\" class=\"Svg-sc-ytk21e-0 dYnaPI\" data-encore-id=\"icon\" role=\"img\" viewbox=\"0 0 16 16\"><path d=\"M3 8a1.5 1.5 0 1 1-3 0 1.5 1.5 0 0 1 3 0zm6.5 0a1.5 1.5 0 1 1-3 0 1.5 1.5 0 0 1 3 0zM16 8a1.5 1.5 0 1 1-3 0 1.5 1.5 0 0 1 3 0z\"></path></svg></span></button></div></div></div>,\n",
       " <div aria-rowindex=\"7\" aria-selected=\"false\" role=\"row\"><div class=\"IjYxRc5luMiDPhKhZVUH UpiE7J6vPrJIa59qxts4\" data-testid=\"tracklist-row\" draggable=\"true\" role=\"presentation\"><div aria-colindex=\"1\" class=\"fS0C4IgbHviZxIVGC736\" role=\"gridcell\"><div class=\"ucB9avGYvzsmzXUOw0S7\"><span class=\"Text__TextElement-sc-if376j-0 gYdBJW encore-text-body-medium xNyTkXEncSjszLNI65Nq\" data-encore-id=\"text\">7</span><button aria-label=\"Play august by Taylor Swift\" class=\"j2s64Lz8y6VzBLB_V9Gm\" tabindex=\"-1\"><svg aria-hidden=\"true\" class=\"Svg-sc-ytk21e-0 bneLcE zOsKPnD_9x3KJqQCSmAq\" data-encore-id=\"icon\" role=\"img\" viewbox=\"0 0 24 24\"><path d=\"m7.05 3.606 13.49 7.788a.7.7 0 0 1 0 1.212L7.05 20.394A.7.7 0 0 1 6 19.788V4.212a.7.7 0 0 1 1.05-.606z\"></path></svg></button></div></div><div aria-colindex=\"2\" class=\"w46g_LQVSLE9xK399VYf\" role=\"gridcell\"><img alt=\"\" aria-hidden=\"false\" class=\"mMx2LUixlnN_Fu45JpFB IqDKYprOtD_EJR1WClPv Yn2Ei5QZn19gria6LjZj\" draggable=\"false\" height=\"40\" loading=\"eager\" src=\"https://i.scdn.co/image/ab67616d00001e0295f754318336a07e85ec59bc\" style=\"border-radius: 4px;\" width=\"40\"/><div class=\"_iQpvk1c9OgRAc8KRTlH\"><a class=\"btE2c3IKaOXZ4VNAb8WQ\" data-testid=\"internal-track-link\" draggable=\"false\" href=\"/track/3hUxzQpSfdDqwM3ZTFQY0K\" tabindex=\"-1\"><div class=\"Text__TextElement-sc-if376j-0 ksSRyh encore-text-body-medium btE2c3IKaOXZ4VNAb8WQ standalone-ellipsis-one-line\" data-encore-id=\"text\" dir=\"auto\">august</div></a></div></div><div aria-colindex=\"3\" class=\"_TH6YAXEzJtzSxhkGSqu\" role=\"gridcell\"><div class=\"Text__TextElement-sc-if376j-0 gYdBJW encore-text-body-small HxDMwNr5oCxTOyqt85gi\" data-encore-id=\"text\">1,032,997,058</div></div><div aria-colindex=\"4\" class=\"PAqIqZXvse_3h6sDVxU0\" role=\"gridcell\"><button aria-checked=\"false\" aria-label=\"Save to Your Library\" class=\"Button-sc-1dqy6lx-0 fpsDgO GcODM2Bp3srQqJzi8Tzs\" data-encore-id=\"buttonTertiary\" data-testid=\"add-button\" tabindex=\"-1\"><span aria-hidden=\"true\" class=\"IconWrapper__Wrapper-sc-16usrgb-0 hYdsxw\"><svg aria-hidden=\"true\" class=\"Svg-sc-ytk21e-0 dYnaPI\" data-encore-id=\"icon\" role=\"img\" viewbox=\"0 0 16 16\"><path d=\"M1.69 2A4.582 4.582 0 0 1 8 2.023 4.583 4.583 0 0 1 11.88.817h.002a4.618 4.618 0 0 1 3.782 3.65v.003a4.543 4.543 0 0 1-1.011 3.84L9.35 14.629a1.765 1.765 0 0 1-2.093.464 1.762 1.762 0 0 1-.605-.463L1.348 8.309A4.582 4.582 0 0 1 1.689 2zm3.158.252A3.082 3.082 0 0 0 2.49 7.337l.005.005L7.8 13.664a.264.264 0 0 0 .311.069.262.262 0 0 0 .09-.069l5.312-6.33a3.043 3.043 0 0 0 .68-2.573 3.118 3.118 0 0 0-2.551-2.463 3.079 3.079 0 0 0-2.612.816l-.007.007a1.501 1.501 0 0 1-2.045 0l-.009-.008a3.082 3.082 0 0 0-2.121-.861z\"></path></svg></span></button><div class=\"Text__TextElement-sc-if376j-0 duYgEj encore-text-body-small l5CmSxiQaap8rWOOpEpk\" data-encore-id=\"text\">4:21</div><button aria-haspopup=\"menu\" aria-label=\"More options for august by Taylor Swift\" class=\"Button-sc-1dqy6lx-0 fpsDgO ObVor_8sQq5whKbtWs8a\" data-encore-id=\"buttonTertiary\" data-testid=\"more-button\" tabindex=\"-1\"><span aria-hidden=\"true\" class=\"IconWrapper__Wrapper-sc-16usrgb-0 hYdsxw\"><svg aria-hidden=\"true\" class=\"Svg-sc-ytk21e-0 dYnaPI\" data-encore-id=\"icon\" role=\"img\" viewbox=\"0 0 16 16\"><path d=\"M3 8a1.5 1.5 0 1 1-3 0 1.5 1.5 0 0 1 3 0zm6.5 0a1.5 1.5 0 1 1-3 0 1.5 1.5 0 0 1 3 0zM16 8a1.5 1.5 0 1 1-3 0 1.5 1.5 0 0 1 3 0z\"></path></svg></span></button></div></div></div>,\n",
       " <div aria-rowindex=\"8\" aria-selected=\"false\" role=\"row\"><div class=\"IjYxRc5luMiDPhKhZVUH UpiE7J6vPrJIa59qxts4\" data-testid=\"tracklist-row\" draggable=\"true\" role=\"presentation\"><div aria-colindex=\"1\" class=\"fS0C4IgbHviZxIVGC736\" role=\"gridcell\"><div class=\"ucB9avGYvzsmzXUOw0S7\"><span class=\"Text__TextElement-sc-if376j-0 gYdBJW encore-text-body-medium xNyTkXEncSjszLNI65Nq\" data-encore-id=\"text\">8</span><button aria-label=\"Play Karma by Taylor Swift\" class=\"j2s64Lz8y6VzBLB_V9Gm\" tabindex=\"-1\"><svg aria-hidden=\"true\" class=\"Svg-sc-ytk21e-0 bneLcE zOsKPnD_9x3KJqQCSmAq\" data-encore-id=\"icon\" role=\"img\" viewbox=\"0 0 24 24\"><path d=\"m7.05 3.606 13.49 7.788a.7.7 0 0 1 0 1.212L7.05 20.394A.7.7 0 0 1 6 19.788V4.212a.7.7 0 0 1 1.05-.606z\"></path></svg></button></div></div><div aria-colindex=\"2\" class=\"w46g_LQVSLE9xK399VYf\" role=\"gridcell\"><img alt=\"\" aria-hidden=\"false\" class=\"mMx2LUixlnN_Fu45JpFB IqDKYprOtD_EJR1WClPv Yn2Ei5QZn19gria6LjZj\" draggable=\"false\" height=\"40\" loading=\"eager\" src=\"https://i.scdn.co/image/ab67616d00001e02bb54dde68cd23e2a268ae0f5\" style=\"border-radius: 4px;\" width=\"40\"/><div class=\"_iQpvk1c9OgRAc8KRTlH\"><a class=\"btE2c3IKaOXZ4VNAb8WQ\" data-testid=\"internal-track-link\" draggable=\"false\" href=\"/track/7KokYm8cMIXCsGVmUvKtqf\" tabindex=\"-1\"><div class=\"Text__TextElement-sc-if376j-0 ksSRyh encore-text-body-medium btE2c3IKaOXZ4VNAb8WQ standalone-ellipsis-one-line\" data-encore-id=\"text\" dir=\"auto\">Karma</div></a><span class=\"Text__TextElement-sc-if376j-0 duYgEj encore-text-body-medium _7_yPy5jfb9kzk3gijq6A\" data-encore-id=\"text\"><span aria-label=\"Explicit\" class=\"kpGMQq1KFz620g_BD_dS\" title=\"Explicit\">E</span></span></div></div><div aria-colindex=\"3\" class=\"_TH6YAXEzJtzSxhkGSqu\" role=\"gridcell\"><div class=\"Text__TextElement-sc-if376j-0 gYdBJW encore-text-body-small HxDMwNr5oCxTOyqt85gi\" data-encore-id=\"text\">732,974,268</div></div><div aria-colindex=\"4\" class=\"PAqIqZXvse_3h6sDVxU0\" role=\"gridcell\"><button aria-checked=\"false\" aria-label=\"Save to Your Library\" class=\"Button-sc-1dqy6lx-0 fpsDgO GcODM2Bp3srQqJzi8Tzs\" data-encore-id=\"buttonTertiary\" data-testid=\"add-button\" tabindex=\"-1\"><span aria-hidden=\"true\" class=\"IconWrapper__Wrapper-sc-16usrgb-0 hYdsxw\"><svg aria-hidden=\"true\" class=\"Svg-sc-ytk21e-0 dYnaPI\" data-encore-id=\"icon\" role=\"img\" viewbox=\"0 0 16 16\"><path d=\"M1.69 2A4.582 4.582 0 0 1 8 2.023 4.583 4.583 0 0 1 11.88.817h.002a4.618 4.618 0 0 1 3.782 3.65v.003a4.543 4.543 0 0 1-1.011 3.84L9.35 14.629a1.765 1.765 0 0 1-2.093.464 1.762 1.762 0 0 1-.605-.463L1.348 8.309A4.582 4.582 0 0 1 1.689 2zm3.158.252A3.082 3.082 0 0 0 2.49 7.337l.005.005L7.8 13.664a.264.264 0 0 0 .311.069.262.262 0 0 0 .09-.069l5.312-6.33a3.043 3.043 0 0 0 .68-2.573 3.118 3.118 0 0 0-2.551-2.463 3.079 3.079 0 0 0-2.612.816l-.007.007a1.501 1.501 0 0 1-2.045 0l-.009-.008a3.082 3.082 0 0 0-2.121-.861z\"></path></svg></span></button><div class=\"Text__TextElement-sc-if376j-0 duYgEj encore-text-body-small l5CmSxiQaap8rWOOpEpk\" data-encore-id=\"text\">3:24</div><button aria-haspopup=\"menu\" aria-label=\"More options for Karma by Taylor Swift\" class=\"Button-sc-1dqy6lx-0 fpsDgO ObVor_8sQq5whKbtWs8a\" data-encore-id=\"buttonTertiary\" data-testid=\"more-button\" tabindex=\"-1\"><span aria-hidden=\"true\" class=\"IconWrapper__Wrapper-sc-16usrgb-0 hYdsxw\"><svg aria-hidden=\"true\" class=\"Svg-sc-ytk21e-0 dYnaPI\" data-encore-id=\"icon\" role=\"img\" viewbox=\"0 0 16 16\"><path d=\"M3 8a1.5 1.5 0 1 1-3 0 1.5 1.5 0 0 1 3 0zm6.5 0a1.5 1.5 0 1 1-3 0 1.5 1.5 0 0 1 3 0zM16 8a1.5 1.5 0 1 1-3 0 1.5 1.5 0 0 1 3 0z\"></path></svg></span></button></div></div></div>,\n",
       " <div aria-rowindex=\"9\" aria-selected=\"false\" role=\"row\"><div class=\"IjYxRc5luMiDPhKhZVUH UpiE7J6vPrJIa59qxts4\" data-testid=\"tracklist-row\" draggable=\"true\" role=\"presentation\"><div aria-colindex=\"1\" class=\"fS0C4IgbHviZxIVGC736\" role=\"gridcell\"><div class=\"ucB9avGYvzsmzXUOw0S7\"><span class=\"Text__TextElement-sc-if376j-0 gYdBJW encore-text-body-medium xNyTkXEncSjszLNI65Nq\" data-encore-id=\"text\">9</span><button aria-label=\"Play Love Story (Taylor’s Version) by Taylor Swift\" class=\"j2s64Lz8y6VzBLB_V9Gm\" tabindex=\"-1\"><svg aria-hidden=\"true\" class=\"Svg-sc-ytk21e-0 bneLcE zOsKPnD_9x3KJqQCSmAq\" data-encore-id=\"icon\" role=\"img\" viewbox=\"0 0 24 24\"><path d=\"m7.05 3.606 13.49 7.788a.7.7 0 0 1 0 1.212L7.05 20.394A.7.7 0 0 1 6 19.788V4.212a.7.7 0 0 1 1.05-.606z\"></path></svg></button></div></div><div aria-colindex=\"2\" class=\"w46g_LQVSLE9xK399VYf\" role=\"gridcell\"><img alt=\"\" aria-hidden=\"false\" class=\"mMx2LUixlnN_Fu45JpFB IqDKYprOtD_EJR1WClPv Yn2Ei5QZn19gria6LjZj\" draggable=\"false\" height=\"40\" loading=\"eager\" src=\"https://i.scdn.co/image/ab67616d00001e02a48964b5d9a3d6968ae3e0de\" style=\"border-radius: 4px;\" width=\"40\"/><div class=\"_iQpvk1c9OgRAc8KRTlH\"><a class=\"btE2c3IKaOXZ4VNAb8WQ\" data-testid=\"internal-track-link\" draggable=\"false\" href=\"/track/6YvqWjhGD8mB5QXcbcUKtx\" tabindex=\"-1\"><div class=\"Text__TextElement-sc-if376j-0 ksSRyh encore-text-body-medium btE2c3IKaOXZ4VNAb8WQ standalone-ellipsis-one-line\" data-encore-id=\"text\" dir=\"auto\">Love Story (Taylor’s Version)</div></a></div></div><div aria-colindex=\"3\" class=\"_TH6YAXEzJtzSxhkGSqu\" role=\"gridcell\"><div class=\"Text__TextElement-sc-if376j-0 gYdBJW encore-text-body-small HxDMwNr5oCxTOyqt85gi\" data-encore-id=\"text\">710,426,855</div></div><div aria-colindex=\"4\" class=\"PAqIqZXvse_3h6sDVxU0\" role=\"gridcell\"><button aria-checked=\"false\" aria-label=\"Save to Your Library\" class=\"Button-sc-1dqy6lx-0 fpsDgO GcODM2Bp3srQqJzi8Tzs\" data-encore-id=\"buttonTertiary\" data-testid=\"add-button\" tabindex=\"-1\"><span aria-hidden=\"true\" class=\"IconWrapper__Wrapper-sc-16usrgb-0 hYdsxw\"><svg aria-hidden=\"true\" class=\"Svg-sc-ytk21e-0 dYnaPI\" data-encore-id=\"icon\" role=\"img\" viewbox=\"0 0 16 16\"><path d=\"M1.69 2A4.582 4.582 0 0 1 8 2.023 4.583 4.583 0 0 1 11.88.817h.002a4.618 4.618 0 0 1 3.782 3.65v.003a4.543 4.543 0 0 1-1.011 3.84L9.35 14.629a1.765 1.765 0 0 1-2.093.464 1.762 1.762 0 0 1-.605-.463L1.348 8.309A4.582 4.582 0 0 1 1.689 2zm3.158.252A3.082 3.082 0 0 0 2.49 7.337l.005.005L7.8 13.664a.264.264 0 0 0 .311.069.262.262 0 0 0 .09-.069l5.312-6.33a3.043 3.043 0 0 0 .68-2.573 3.118 3.118 0 0 0-2.551-2.463 3.079 3.079 0 0 0-2.612.816l-.007.007a1.501 1.501 0 0 1-2.045 0l-.009-.008a3.082 3.082 0 0 0-2.121-.861z\"></path></svg></span></button><div class=\"Text__TextElement-sc-if376j-0 duYgEj encore-text-body-small l5CmSxiQaap8rWOOpEpk\" data-encore-id=\"text\">3:55</div><button aria-haspopup=\"menu\" aria-label=\"More options for Love Story (Taylor’s Version) by Taylor Swift\" class=\"Button-sc-1dqy6lx-0 fpsDgO ObVor_8sQq5whKbtWs8a\" data-encore-id=\"buttonTertiary\" data-testid=\"more-button\" tabindex=\"-1\"><span aria-hidden=\"true\" class=\"IconWrapper__Wrapper-sc-16usrgb-0 hYdsxw\"><svg aria-hidden=\"true\" class=\"Svg-sc-ytk21e-0 dYnaPI\" data-encore-id=\"icon\" role=\"img\" viewbox=\"0 0 16 16\"><path d=\"M3 8a1.5 1.5 0 1 1-3 0 1.5 1.5 0 0 1 3 0zm6.5 0a1.5 1.5 0 1 1-3 0 1.5 1.5 0 0 1 3 0zM16 8a1.5 1.5 0 1 1-3 0 1.5 1.5 0 0 1 3 0z\"></path></svg></span></button></div></div></div>,\n",
       " <div aria-rowindex=\"10\" aria-selected=\"false\" role=\"row\"><div class=\"IjYxRc5luMiDPhKhZVUH UpiE7J6vPrJIa59qxts4\" data-testid=\"tracklist-row\" draggable=\"true\" role=\"presentation\"><div aria-colindex=\"1\" class=\"fS0C4IgbHviZxIVGC736\" role=\"gridcell\"><div class=\"ucB9avGYvzsmzXUOw0S7\"><span class=\"Text__TextElement-sc-if376j-0 gYdBJW encore-text-body-medium xNyTkXEncSjszLNI65Nq\" data-encore-id=\"text\">10</span><button aria-label=\"Play Blank Space by Taylor Swift\" class=\"j2s64Lz8y6VzBLB_V9Gm\" tabindex=\"-1\"><svg aria-hidden=\"true\" class=\"Svg-sc-ytk21e-0 bneLcE zOsKPnD_9x3KJqQCSmAq\" data-encore-id=\"icon\" role=\"img\" viewbox=\"0 0 24 24\"><path d=\"m7.05 3.606 13.49 7.788a.7.7 0 0 1 0 1.212L7.05 20.394A.7.7 0 0 1 6 19.788V4.212a.7.7 0 0 1 1.05-.606z\"></path></svg></button></div></div><div aria-colindex=\"2\" class=\"w46g_LQVSLE9xK399VYf\" role=\"gridcell\"><img alt=\"\" aria-hidden=\"false\" class=\"mMx2LUixlnN_Fu45JpFB IqDKYprOtD_EJR1WClPv Yn2Ei5QZn19gria6LjZj\" draggable=\"false\" height=\"40\" loading=\"eager\" src=\"https://i.scdn.co/image/ab67616d00001e029abdf14e6058bd3903686148\" style=\"border-radius: 4px;\" width=\"40\"/><div class=\"_iQpvk1c9OgRAc8KRTlH\"><a class=\"btE2c3IKaOXZ4VNAb8WQ\" data-testid=\"internal-track-link\" draggable=\"false\" href=\"/track/1p80LdxRV74UKvL8gnD7ky\" tabindex=\"-1\"><div class=\"Text__TextElement-sc-if376j-0 ksSRyh encore-text-body-medium btE2c3IKaOXZ4VNAb8WQ standalone-ellipsis-one-line\" data-encore-id=\"text\" dir=\"auto\">Blank Space</div></a></div></div><div aria-colindex=\"3\" class=\"_TH6YAXEzJtzSxhkGSqu\" role=\"gridcell\"><div class=\"Text__TextElement-sc-if376j-0 gYdBJW encore-text-body-small HxDMwNr5oCxTOyqt85gi\" data-encore-id=\"text\">1,775,026,625</div></div><div aria-colindex=\"4\" class=\"PAqIqZXvse_3h6sDVxU0\" role=\"gridcell\"><button aria-checked=\"false\" aria-label=\"Save to Your Library\" class=\"Button-sc-1dqy6lx-0 fpsDgO GcODM2Bp3srQqJzi8Tzs\" data-encore-id=\"buttonTertiary\" data-testid=\"add-button\" tabindex=\"-1\"><span aria-hidden=\"true\" class=\"IconWrapper__Wrapper-sc-16usrgb-0 hYdsxw\"><svg aria-hidden=\"true\" class=\"Svg-sc-ytk21e-0 dYnaPI\" data-encore-id=\"icon\" role=\"img\" viewbox=\"0 0 16 16\"><path d=\"M1.69 2A4.582 4.582 0 0 1 8 2.023 4.583 4.583 0 0 1 11.88.817h.002a4.618 4.618 0 0 1 3.782 3.65v.003a4.543 4.543 0 0 1-1.011 3.84L9.35 14.629a1.765 1.765 0 0 1-2.093.464 1.762 1.762 0 0 1-.605-.463L1.348 8.309A4.582 4.582 0 0 1 1.689 2zm3.158.252A3.082 3.082 0 0 0 2.49 7.337l.005.005L7.8 13.664a.264.264 0 0 0 .311.069.262.262 0 0 0 .09-.069l5.312-6.33a3.043 3.043 0 0 0 .68-2.573 3.118 3.118 0 0 0-2.551-2.463 3.079 3.079 0 0 0-2.612.816l-.007.007a1.501 1.501 0 0 1-2.045 0l-.009-.008a3.082 3.082 0 0 0-2.121-.861z\"></path></svg></span></button><div class=\"Text__TextElement-sc-if376j-0 duYgEj encore-text-body-small l5CmSxiQaap8rWOOpEpk\" data-encore-id=\"text\">3:51</div><button aria-haspopup=\"menu\" aria-label=\"More options for Blank Space by Taylor Swift\" class=\"Button-sc-1dqy6lx-0 fpsDgO ObVor_8sQq5whKbtWs8a\" data-encore-id=\"buttonTertiary\" data-testid=\"more-button\" tabindex=\"-1\"><span aria-hidden=\"true\" class=\"IconWrapper__Wrapper-sc-16usrgb-0 hYdsxw\"><svg aria-hidden=\"true\" class=\"Svg-sc-ytk21e-0 dYnaPI\" data-encore-id=\"icon\" role=\"img\" viewbox=\"0 0 16 16\"><path d=\"M3 8a1.5 1.5 0 1 1-3 0 1.5 1.5 0 0 1 3 0zm6.5 0a1.5 1.5 0 1 1-3 0 1.5 1.5 0 0 1 3 0zM16 8a1.5 1.5 0 1 1-3 0 1.5 1.5 0 0 1 3 0z\"></path></svg></span></button></div></div></div>]"
      ]
     },
     "execution_count": 23,
     "metadata": {},
     "output_type": "execute_result"
    }
   ],
   "source": [
    "top_songs"
   ]
  },
  {
   "cell_type": "code",
   "execution_count": 24,
   "id": "b0479c69-724b-4fad-86d2-f4f59f354e35",
   "metadata": {},
   "outputs": [
    {
     "data": {
      "text/plain": [
       "10"
      ]
     },
     "execution_count": 24,
     "metadata": {},
     "output_type": "execute_result"
    }
   ],
   "source": [
    "len(top_songs)"
   ]
  },
  {
   "cell_type": "code",
   "execution_count": 25,
   "id": "45c2f3d9-0d7d-4d86-a16f-2c3a5e8f8cfa",
   "metadata": {},
   "outputs": [
    {
     "name": "stdout",
     "output_type": "stream",
     "text": [
      "Cruel Summer 1,978,869,708\n",
      "Lover 1,331,944,397\n",
      "Anti-Hero 1,492,011,046\n",
      "cardigan 1,234,651,335\n",
      "Is It Over Now? (Taylor's Version) (From The Vault) 367,620,148\n",
      "Don’t Blame Me 1,060,400,451\n",
      "august 1,032,997,058\n",
      "Karma 732,974,268\n",
      "Love Story (Taylor’s Version) 710,426,855\n",
      "Blank Space 1,775,026,625\n"
     ]
    }
   ],
   "source": [
    "for song in top_songs:\n",
    "    title = song.find(class_=\"Text__TextElement-sc-if376j-0 ksSRyh encore-text-body-medium btE2c3IKaOXZ4VNAb8WQ standalone-ellipsis-one-line\").text\n",
    "    play_count = song.find(class_=\"Text__TextElement-sc-if376j-0 gYdBJW encore-text-body-small HxDMwNr5oCxTOyqt85gi\").text\n",
    "    print(title, play_count)"
   ]
  },
  {
   "cell_type": "markdown",
   "id": "2e175069-bc8b-48fa-af11-f610d3ff2cc6",
   "metadata": {},
   "source": [
    "### Filling the Blank Spaces!! (Saving to a CSV)"
   ]
  },
  {
   "cell_type": "code",
   "execution_count": 26,
   "id": "0dd65dd1-1cea-48f8-b5fd-beeed19277c1",
   "metadata": {},
   "outputs": [],
   "source": [
    "html = await page.content()"
   ]
  },
  {
   "cell_type": "code",
   "execution_count": 27,
   "id": "857228f4-ac03-4178-8bb4-f3b03aca940c",
   "metadata": {},
   "outputs": [],
   "source": [
    "import pandas as pd"
   ]
  },
  {
   "cell_type": "code",
   "execution_count": 28,
   "id": "57d0376d-2a74-4f3b-a024-1feab31a1202",
   "metadata": {},
   "outputs": [
    {
     "name": "stdout",
     "output_type": "stream",
     "text": [
      "Requirement already satisfied: html5lib in /Users/renatacarlosdaou/.pyenv/versions/3.11.6/lib/python3.11/site-packages (1.1)\n",
      "Requirement already satisfied: six>=1.9 in /Users/renatacarlosdaou/.pyenv/versions/3.11.6/lib/python3.11/site-packages (from html5lib) (1.16.0)\n",
      "Requirement already satisfied: webencodings in /Users/renatacarlosdaou/.pyenv/versions/3.11.6/lib/python3.11/site-packages (from html5lib) (0.5.1)\n",
      "\n",
      "\u001b[1m[\u001b[0m\u001b[34;49mnotice\u001b[0m\u001b[1;39;49m]\u001b[0m\u001b[39;49m A new release of pip is available: \u001b[0m\u001b[31;49m23.3.2\u001b[0m\u001b[39;49m -> \u001b[0m\u001b[32;49m24.0\u001b[0m\n",
      "\u001b[1m[\u001b[0m\u001b[34;49mnotice\u001b[0m\u001b[1;39;49m]\u001b[0m\u001b[39;49m To update, run: \u001b[0m\u001b[32;49mpip install --upgrade pip\u001b[0m\n"
     ]
    }
   ],
   "source": [
    "! pip install html5lib"
   ]
  },
  {
   "cell_type": "code",
   "execution_count": 35,
   "id": "1ee87fbf-bab1-4060-a255-74f7bfb4f4cc",
   "metadata": {},
   "outputs": [
    {
     "name": "stdout",
     "output_type": "stream",
     "text": [
      "----\n",
      "{'title': 'Cruel Summer', 'play_count': '1,978,869,708'}\n",
      "----\n",
      "{'title': 'Lover', 'play_count': '1,331,944,397'}\n",
      "----\n",
      "{'title': 'Anti-Hero', 'play_count': '1,492,011,046'}\n",
      "----\n",
      "{'title': 'cardigan', 'play_count': '1,234,651,335'}\n",
      "----\n",
      "{'title': \"Is It Over Now? (Taylor's Version) (From The Vault)\", 'play_count': '367,620,148'}\n",
      "----\n",
      "{'title': 'Don’t Blame Me', 'play_count': '1,060,400,451'}\n",
      "----\n",
      "{'title': 'august', 'play_count': '1,032,997,058'}\n",
      "----\n",
      "{'title': 'Karma', 'play_count': '732,974,268'}\n",
      "----\n",
      "{'title': 'Love Story (Taylor’s Version)', 'play_count': '710,426,855'}\n",
      "----\n",
      "{'title': 'Blank Space', 'play_count': '1,775,026,625'}\n"
     ]
    }
   ],
   "source": [
    "rows = []\n",
    "\n",
    "top_songs = doc.find_all('div', role='row')\n",
    "for song in top_songs:\n",
    "    print(\"----\")\n",
    "\n",
    "    row = {}\n",
    "\n",
    "    try:\n",
    "        row['title'] = song.find(class_=\"Text__TextElement-sc-if376j-0 ksSRyh encore-text-body-medium btE2c3IKaOXZ4VNAb8WQ standalone-ellipsis-one-line\").text\n",
    "    except:\n",
    "        row['title'] = None\n",
    "\n",
    "    try:\n",
    "        row['play_count'] = song.find(class_=\"Text__TextElement-sc-if376j-0 gYdBJW encore-text-body-small HxDMwNr5oCxTOyqt85gi\").text\n",
    "    except:\n",
    "        row['play_count'] = None\n",
    "\n",
    "    print(row)\n",
    "\n",
    "    rows.append(row)"
   ]
  },
  {
   "cell_type": "code",
   "execution_count": 36,
   "id": "6141589a-f61a-45a8-92d9-9b0675f25f74",
   "metadata": {},
   "outputs": [
    {
     "data": {
      "text/html": [
       "<div>\n",
       "<style scoped>\n",
       "    .dataframe tbody tr th:only-of-type {\n",
       "        vertical-align: middle;\n",
       "    }\n",
       "\n",
       "    .dataframe tbody tr th {\n",
       "        vertical-align: top;\n",
       "    }\n",
       "\n",
       "    .dataframe thead th {\n",
       "        text-align: right;\n",
       "    }\n",
       "</style>\n",
       "<table border=\"1\" class=\"dataframe\">\n",
       "  <thead>\n",
       "    <tr style=\"text-align: right;\">\n",
       "      <th></th>\n",
       "      <th>title</th>\n",
       "      <th>play_count</th>\n",
       "    </tr>\n",
       "  </thead>\n",
       "  <tbody>\n",
       "    <tr>\n",
       "      <th>0</th>\n",
       "      <td>Cruel Summer</td>\n",
       "      <td>1,978,869,708</td>\n",
       "    </tr>\n",
       "    <tr>\n",
       "      <th>1</th>\n",
       "      <td>Lover</td>\n",
       "      <td>1,331,944,397</td>\n",
       "    </tr>\n",
       "    <tr>\n",
       "      <th>2</th>\n",
       "      <td>Anti-Hero</td>\n",
       "      <td>1,492,011,046</td>\n",
       "    </tr>\n",
       "    <tr>\n",
       "      <th>3</th>\n",
       "      <td>cardigan</td>\n",
       "      <td>1,234,651,335</td>\n",
       "    </tr>\n",
       "    <tr>\n",
       "      <th>4</th>\n",
       "      <td>Is It Over Now? (Taylor's Version) (From The V...</td>\n",
       "      <td>367,620,148</td>\n",
       "    </tr>\n",
       "  </tbody>\n",
       "</table>\n",
       "</div>"
      ],
      "text/plain": [
       "                                               title     play_count\n",
       "0                                       Cruel Summer  1,978,869,708\n",
       "1                                              Lover  1,331,944,397\n",
       "2                                          Anti-Hero  1,492,011,046\n",
       "3                                           cardigan  1,234,651,335\n",
       "4  Is It Over Now? (Taylor's Version) (From The V...    367,620,148"
      ]
     },
     "execution_count": 36,
     "metadata": {},
     "output_type": "execute_result"
    }
   ],
   "source": [
    "df = pd.DataFrame(rows)\n",
    "df.head()\n"
   ]
  },
  {
   "cell_type": "code",
   "execution_count": 37,
   "id": "5d473bd9",
   "metadata": {},
   "outputs": [],
   "source": [
    "df.play_count=df.play_count.str.replace(',','').astype(int)\n",
    "df['rank'] = df.play_count.rank()"
   ]
  },
  {
   "cell_type": "code",
   "execution_count": 38,
   "id": "d62b3304-77cf-4c00-8b61-fcd0ddf6c5f3",
   "metadata": {},
   "outputs": [],
   "source": [
    "df.to_csv('top_songs.csv', index=False)"
   ]
  },
  {
   "cell_type": "markdown",
   "id": "ed83639f-ca3d-4409-b64b-1898981beec8",
   "metadata": {},
   "source": [
    "## It was the end of a decade\n",
    "## But the start of an age"
   ]
  },
  {
   "cell_type": "code",
   "execution_count": null,
   "id": "30f50807-a6e7-466d-b227-b9921e3a06c9",
   "metadata": {},
   "outputs": [],
   "source": []
  }
 ],
 "metadata": {
  "kernelspec": {
   "display_name": "Python 3 (ipykernel)",
   "language": "python",
   "name": "python3"
  },
  "language_info": {
   "codemirror_mode": {
    "name": "ipython",
    "version": 3
   },
   "file_extension": ".py",
   "mimetype": "text/x-python",
   "name": "python",
   "nbconvert_exporter": "python",
   "pygments_lexer": "ipython3",
   "version": "3.11.6"
  }
 },
 "nbformat": 4,
 "nbformat_minor": 5
}
